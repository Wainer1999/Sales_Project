{
  "nbformat": 4,
  "nbformat_minor": 0,
  "metadata": {
    "colab": {
      "name": "Sales Project",
      "provenance": [],
      "authorship_tag": "ABX9TyNaFv83UREuWiD1ARyf0Yfk",
      "include_colab_link": true
    },
    "kernelspec": {
      "name": "python3",
      "display_name": "Python 3"
    },
    "language_info": {
      "name": "python"
    }
  },
  "cells": [
    {
      "cell_type": "markdown",
      "metadata": {
        "id": "view-in-github",
        "colab_type": "text"
      },
      "source": [
        "<a href=\"https://colab.research.google.com/github/Wainer1999/Sales_Project/blob/main/Sales_Project.ipynb\" target=\"_parent\"><img src=\"https://colab.research.google.com/assets/colab-badge.svg\" alt=\"Open In Colab\"/></a>"
      ]
    },
    {
      "cell_type": "markdown",
      "metadata": {
        "id": "S3zVlf2ISGWe"
      },
      "source": [
        "O presente projeto tem como objetivo realizar a análise de uma base de dados de vendas. Tal análise será dividida em duas partes:\n",
        "- Análise exploratória dos dados, onde serão utilizados as bibliotecas, \"Pandas, Seaborn, Matplotlib e Numpy\";\n",
        "- Predição de valores: nesta etapa será aplicado um algoritmo de regressão linear para efetuar a predição dos valores de vendo, com base nas demais features. \n",
        "\n",
        "\n",
        "Primeiro passo será a importação das bibliotecas necessárias para a realização da análise exploratória \n",
        "\n",
        "\n",
        "O arquivo csv utilizado neste projeto encontra-se no site \"https://www.kaggle.com/tylermorse/retail-business-sales-20172019?select=business.retailsales.csv\""
      ]
    },
    {
      "cell_type": "code",
      "metadata": {
        "id": "6ttuT7YTTKch"
      },
      "source": [
        "import pandas as pd\n",
        "import seaborn as sns\n",
        "import numpy as np \n",
        "import matplotlib.pyplot as plt\n"
      ],
      "execution_count": 1,
      "outputs": []
    },
    {
      "cell_type": "markdown",
      "metadata": {
        "id": "DZq2p8FlTcj7"
      },
      "source": [
        "Agora será realizado a importação da base de dados utlizada na análise.\n",
        "O data_frame será alocado na variável \"df\""
      ]
    },
    {
      "cell_type": "code",
      "metadata": {
        "id": "WRkY2eewThv2"
      },
      "source": [
        "df = pd.read_csv('business.retailsales.csv')"
      ],
      "execution_count": 2,
      "outputs": []
    },
    {
      "cell_type": "code",
      "metadata": {
        "colab": {
          "base_uri": "https://localhost:8080/",
          "height": 204
        },
        "id": "ABhWegTcU3UF",
        "outputId": "4c9a0801-3158-44d2-fd0c-67a8965c095b"
      },
      "source": [
        "df.head()"
      ],
      "execution_count": null,
      "outputs": [
        {
          "output_type": "execute_result",
          "data": {
            "text/html": [
              "<div>\n",
              "<style scoped>\n",
              "    .dataframe tbody tr th:only-of-type {\n",
              "        vertical-align: middle;\n",
              "    }\n",
              "\n",
              "    .dataframe tbody tr th {\n",
              "        vertical-align: top;\n",
              "    }\n",
              "\n",
              "    .dataframe thead th {\n",
              "        text-align: right;\n",
              "    }\n",
              "</style>\n",
              "<table border=\"1\" class=\"dataframe\">\n",
              "  <thead>\n",
              "    <tr style=\"text-align: right;\">\n",
              "      <th></th>\n",
              "      <th>Product Type</th>\n",
              "      <th>Net Quantity</th>\n",
              "      <th>Gross Sales</th>\n",
              "      <th>Discounts</th>\n",
              "      <th>Returns</th>\n",
              "      <th>Total Net Sales</th>\n",
              "    </tr>\n",
              "  </thead>\n",
              "  <tbody>\n",
              "    <tr>\n",
              "      <th>0</th>\n",
              "      <td>Art &amp; Sculpture</td>\n",
              "      <td>34</td>\n",
              "      <td>14935.0</td>\n",
              "      <td>-594.00</td>\n",
              "      <td>-1609.0</td>\n",
              "      <td>12732.00</td>\n",
              "    </tr>\n",
              "    <tr>\n",
              "      <th>1</th>\n",
              "      <td>Basket</td>\n",
              "      <td>13</td>\n",
              "      <td>3744.0</td>\n",
              "      <td>-316.80</td>\n",
              "      <td>0.0</td>\n",
              "      <td>3427.20</td>\n",
              "    </tr>\n",
              "    <tr>\n",
              "      <th>2</th>\n",
              "      <td>Basket</td>\n",
              "      <td>12</td>\n",
              "      <td>3825.0</td>\n",
              "      <td>-201.60</td>\n",
              "      <td>-288.0</td>\n",
              "      <td>3335.40</td>\n",
              "    </tr>\n",
              "    <tr>\n",
              "      <th>3</th>\n",
              "      <td>Basket</td>\n",
              "      <td>17</td>\n",
              "      <td>3035.0</td>\n",
              "      <td>-63.25</td>\n",
              "      <td>0.0</td>\n",
              "      <td>2971.75</td>\n",
              "    </tr>\n",
              "    <tr>\n",
              "      <th>4</th>\n",
              "      <td>Art &amp; Sculpture</td>\n",
              "      <td>47</td>\n",
              "      <td>2696.8</td>\n",
              "      <td>-44.16</td>\n",
              "      <td>0.0</td>\n",
              "      <td>2652.64</td>\n",
              "    </tr>\n",
              "  </tbody>\n",
              "</table>\n",
              "</div>"
            ],
            "text/plain": [
              "      Product Type  Net Quantity  ...  Returns  Total Net Sales\n",
              "0  Art & Sculpture            34  ...  -1609.0         12732.00\n",
              "1           Basket            13  ...      0.0          3427.20\n",
              "2           Basket            12  ...   -288.0          3335.40\n",
              "3           Basket            17  ...      0.0          2971.75\n",
              "4  Art & Sculpture            47  ...      0.0          2652.64\n",
              "\n",
              "[5 rows x 6 columns]"
            ]
          },
          "metadata": {
            "tags": []
          },
          "execution_count": 3
        }
      ]
    },
    {
      "cell_type": "markdown",
      "metadata": {
        "id": "-tJA_ZodU6yQ"
      },
      "source": [
        "O presente DataFrame possui as seguintes colunas:\n",
        "- Product Type : tipo de produto;\n",
        "- Net Quantity : quantidade daquele produt;\n",
        "- Gross Sales: vendas brutas;\n",
        "- Discounts : discontos;\n",
        "- Returns : produtos retornados; \n",
        "- Total Net Sales: vendas líquidas totais. \n",
        "\n",
        "Agora vamos analisar algumas informações a respeito do DF"
      ]
    },
    {
      "cell_type": "code",
      "metadata": {
        "colab": {
          "base_uri": "https://localhost:8080/"
        },
        "id": "k9kcyn0dVhWL",
        "outputId": "fd3fa0d1-f2b1-46aa-b1ad-3b8521d787b3"
      },
      "source": [
        "df.info()"
      ],
      "execution_count": null,
      "outputs": [
        {
          "output_type": "stream",
          "text": [
            "<class 'pandas.core.frame.DataFrame'>\n",
            "RangeIndex: 1775 entries, 0 to 1774\n",
            "Data columns (total 6 columns):\n",
            " #   Column           Non-Null Count  Dtype  \n",
            "---  ------           --------------  -----  \n",
            " 0   Product Type     1767 non-null   object \n",
            " 1   Net Quantity     1775 non-null   int64  \n",
            " 2   Gross Sales      1775 non-null   float64\n",
            " 3   Discounts        1775 non-null   float64\n",
            " 4   Returns          1775 non-null   float64\n",
            " 5   Total Net Sales  1775 non-null   float64\n",
            "dtypes: float64(4), int64(1), object(1)\n",
            "memory usage: 83.3+ KB\n"
          ],
          "name": "stdout"
        }
      ]
    },
    {
      "cell_type": "markdown",
      "metadata": {
        "id": "OP1eVzLDcQW0"
      },
      "source": [
        "Nota-se que há valores faltantes na coluta \"Product Type\". Uma maneira de lidar com os dados faltantes neste caso, visto que temos uma string, é substituir os dados faltante pela maioria dos dados presentes.\n",
        "\n",
        "Para saber qual a maioria dos dados presentes na coluna \"Product Type\", utilizamos a expressão \"value_counts()\" na coluna."
      ]
    },
    {
      "cell_type": "code",
      "metadata": {
        "colab": {
          "base_uri": "https://localhost:8080/"
        },
        "id": "WiFAlkLJcufG",
        "outputId": "6e5174d7-75b4-4094-f737-302337c8ce34"
      },
      "source": [
        "df['Product Type'].value_counts()"
      ],
      "execution_count": null,
      "outputs": [
        {
          "output_type": "execute_result",
          "data": {
            "text/plain": [
              "Basket              551\n",
              "Art & Sculpture     337\n",
              "Jewelry             210\n",
              "Kitchen             161\n",
              "Home Decor          131\n",
              "Christmas            73\n",
              "Soapstone            67\n",
              "Kids                 63\n",
              "Accessories          39\n",
              "Music                29\n",
              "Fair Trade Gifts     28\n",
              "Recycled Art         23\n",
              "Furniture            16\n",
              "Textiles             14\n",
              "One-of-a-Kind        12\n",
              "Skin Care            11\n",
              "Easter                1\n",
              "Gift Baskets          1\n",
              "Name: Product Type, dtype: int64"
            ]
          },
          "metadata": {
            "tags": []
          },
          "execution_count": 6
        }
      ]
    },
    {
      "cell_type": "markdown",
      "metadata": {
        "id": "Vkz_djWIc16U"
      },
      "source": [
        "A maior categoria de produto é \"Basket\", logo este será o tipo de produto que será utilizado para subtituir os dados faltantes da coluna. "
      ]
    },
    {
      "cell_type": "code",
      "metadata": {
        "id": "3plP7IildHTv"
      },
      "source": [
        "df['Product Type'].replace(np.nan,'Basket',inplace = True)"
      ],
      "execution_count": null,
      "outputs": []
    },
    {
      "cell_type": "code",
      "metadata": {
        "colab": {
          "base_uri": "https://localhost:8080/"
        },
        "id": "5bOIIalLdO9P",
        "outputId": "f5a64683-5433-4bd1-96d0-962c6925e477"
      },
      "source": [
        "df.info()"
      ],
      "execution_count": null,
      "outputs": [
        {
          "output_type": "stream",
          "text": [
            "<class 'pandas.core.frame.DataFrame'>\n",
            "RangeIndex: 1775 entries, 0 to 1774\n",
            "Data columns (total 6 columns):\n",
            " #   Column           Non-Null Count  Dtype  \n",
            "---  ------           --------------  -----  \n",
            " 0   Product Type     1775 non-null   object \n",
            " 1   Net Quantity     1775 non-null   int64  \n",
            " 2   Gross Sales      1775 non-null   float64\n",
            " 3   Discounts        1775 non-null   float64\n",
            " 4   Returns          1775 non-null   float64\n",
            " 5   Total Net Sales  1775 non-null   float64\n",
            "dtypes: float64(4), int64(1), object(1)\n",
            "memory usage: 83.3+ KB\n"
          ],
          "name": "stdout"
        }
      ]
    },
    {
      "cell_type": "markdown",
      "metadata": {
        "id": "V_ouB5zkdRYr"
      },
      "source": [
        "Agora todas as colunas possuem as mesmas quantidades de dados.\n",
        "\n",
        "\n",
        "\n",
        "Uma maneira para começar uma análise preditiva é através da descrição estatistica dos valores númericos presentes na base de dados.\n",
        "\n",
        "Utilizando o método \"describe()\" obtemos tais informações."
      ]
    },
    {
      "cell_type": "code",
      "metadata": {
        "colab": {
          "base_uri": "https://localhost:8080/",
          "height": 297
        },
        "id": "jMQyTQSgdU5m",
        "outputId": "e1ef46f8-73af-424f-9c3c-cdd97bbde373"
      },
      "source": [
        "df.describe()"
      ],
      "execution_count": null,
      "outputs": [
        {
          "output_type": "execute_result",
          "data": {
            "text/html": [
              "<div>\n",
              "<style scoped>\n",
              "    .dataframe tbody tr th:only-of-type {\n",
              "        vertical-align: middle;\n",
              "    }\n",
              "\n",
              "    .dataframe tbody tr th {\n",
              "        vertical-align: top;\n",
              "    }\n",
              "\n",
              "    .dataframe thead th {\n",
              "        text-align: right;\n",
              "    }\n",
              "</style>\n",
              "<table border=\"1\" class=\"dataframe\">\n",
              "  <thead>\n",
              "    <tr style=\"text-align: right;\">\n",
              "      <th></th>\n",
              "      <th>Net Quantity</th>\n",
              "      <th>Gross Sales</th>\n",
              "      <th>Discounts</th>\n",
              "      <th>Returns</th>\n",
              "      <th>Total Net Sales</th>\n",
              "    </tr>\n",
              "  </thead>\n",
              "  <tbody>\n",
              "    <tr>\n",
              "      <th>count</th>\n",
              "      <td>1775.000000</td>\n",
              "      <td>1775.000000</td>\n",
              "      <td>1775.000000</td>\n",
              "      <td>1775.000000</td>\n",
              "      <td>1775.000000</td>\n",
              "    </tr>\n",
              "    <tr>\n",
              "      <th>mean</th>\n",
              "      <td>3.712676</td>\n",
              "      <td>199.671746</td>\n",
              "      <td>-6.317623</td>\n",
              "      <td>-5.385437</td>\n",
              "      <td>187.968687</td>\n",
              "    </tr>\n",
              "    <tr>\n",
              "      <th>std</th>\n",
              "      <td>6.243078</td>\n",
              "      <td>464.880638</td>\n",
              "      <td>20.903517</td>\n",
              "      <td>46.654269</td>\n",
              "      <td>414.547039</td>\n",
              "    </tr>\n",
              "    <tr>\n",
              "      <th>min</th>\n",
              "      <td>-1.000000</td>\n",
              "      <td>0.000000</td>\n",
              "      <td>-594.000000</td>\n",
              "      <td>-1609.000000</td>\n",
              "      <td>-106.250000</td>\n",
              "    </tr>\n",
              "    <tr>\n",
              "      <th>25%</th>\n",
              "      <td>1.000000</td>\n",
              "      <td>48.000000</td>\n",
              "      <td>-6.000000</td>\n",
              "      <td>0.000000</td>\n",
              "      <td>44.800000</td>\n",
              "    </tr>\n",
              "    <tr>\n",
              "      <th>50%</th>\n",
              "      <td>2.000000</td>\n",
              "      <td>100.000000</td>\n",
              "      <td>0.000000</td>\n",
              "      <td>0.000000</td>\n",
              "      <td>96.000000</td>\n",
              "    </tr>\n",
              "    <tr>\n",
              "      <th>75%</th>\n",
              "      <td>4.000000</td>\n",
              "      <td>185.500000</td>\n",
              "      <td>0.000000</td>\n",
              "      <td>0.000000</td>\n",
              "      <td>184.750000</td>\n",
              "    </tr>\n",
              "    <tr>\n",
              "      <th>max</th>\n",
              "      <td>96.000000</td>\n",
              "      <td>14935.000000</td>\n",
              "      <td>0.000000</td>\n",
              "      <td>0.000000</td>\n",
              "      <td>12732.000000</td>\n",
              "    </tr>\n",
              "  </tbody>\n",
              "</table>\n",
              "</div>"
            ],
            "text/plain": [
              "       Net Quantity   Gross Sales    Discounts      Returns  Total Net Sales\n",
              "count   1775.000000   1775.000000  1775.000000  1775.000000      1775.000000\n",
              "mean       3.712676    199.671746    -6.317623    -5.385437       187.968687\n",
              "std        6.243078    464.880638    20.903517    46.654269       414.547039\n",
              "min       -1.000000      0.000000  -594.000000 -1609.000000      -106.250000\n",
              "25%        1.000000     48.000000    -6.000000     0.000000        44.800000\n",
              "50%        2.000000    100.000000     0.000000     0.000000        96.000000\n",
              "75%        4.000000    185.500000     0.000000     0.000000       184.750000\n",
              "max       96.000000  14935.000000     0.000000     0.000000     12732.000000"
            ]
          },
          "metadata": {
            "tags": []
          },
          "execution_count": 4
        }
      ]
    },
    {
      "cell_type": "markdown",
      "metadata": {
        "id": "XJwhCZpHeIbH"
      },
      "source": [
        "Agora será utilizado o método \"groupby\" para agrupar os dados categoricos, neste caso o \"Product Type\" e encontrar alguns valores médios de acordo com cada categoria. "
      ]
    },
    {
      "cell_type": "code",
      "metadata": {
        "id": "Ztrsl_iee9Xu"
      },
      "source": [
        "df_2 = df[['Product Type','Gross Sales','Total Net Sales']]"
      ],
      "execution_count": null,
      "outputs": []
    },
    {
      "cell_type": "code",
      "metadata": {
        "colab": {
          "base_uri": "https://localhost:8080/",
          "height": 638
        },
        "id": "_cropdlqf34D",
        "outputId": "d3187fd1-7541-421c-dea2-c05cbed928b2"
      },
      "source": [
        "df_2.groupby('Product Type').mean().sort_values(by= ['Total Net Sales'],ascending = False)"
      ],
      "execution_count": null,
      "outputs": [
        {
          "output_type": "execute_result",
          "data": {
            "text/html": [
              "<div>\n",
              "<style scoped>\n",
              "    .dataframe tbody tr th:only-of-type {\n",
              "        vertical-align: middle;\n",
              "    }\n",
              "\n",
              "    .dataframe tbody tr th {\n",
              "        vertical-align: top;\n",
              "    }\n",
              "\n",
              "    .dataframe thead th {\n",
              "        text-align: right;\n",
              "    }\n",
              "</style>\n",
              "<table border=\"1\" class=\"dataframe\">\n",
              "  <thead>\n",
              "    <tr style=\"text-align: right;\">\n",
              "      <th></th>\n",
              "      <th>Gross Sales</th>\n",
              "      <th>Total Net Sales</th>\n",
              "    </tr>\n",
              "    <tr>\n",
              "      <th>Product Type</th>\n",
              "      <th></th>\n",
              "      <th></th>\n",
              "    </tr>\n",
              "  </thead>\n",
              "  <tbody>\n",
              "    <tr>\n",
              "      <th>Art &amp; Sculpture</th>\n",
              "      <td>268.001780</td>\n",
              "      <td>250.685015</td>\n",
              "    </tr>\n",
              "    <tr>\n",
              "      <th>Basket</th>\n",
              "      <td>261.008167</td>\n",
              "      <td>244.630472</td>\n",
              "    </tr>\n",
              "    <tr>\n",
              "      <th>Skin Care</th>\n",
              "      <td>237.227273</td>\n",
              "      <td>233.800000</td>\n",
              "    </tr>\n",
              "    <tr>\n",
              "      <th>Christmas</th>\n",
              "      <td>212.000000</td>\n",
              "      <td>198.093288</td>\n",
              "    </tr>\n",
              "    <tr>\n",
              "      <th>Home Decor</th>\n",
              "      <td>206.981298</td>\n",
              "      <td>196.183130</td>\n",
              "    </tr>\n",
              "    <tr>\n",
              "      <th>One-of-a-Kind</th>\n",
              "      <td>181.666667</td>\n",
              "      <td>175.667500</td>\n",
              "    </tr>\n",
              "    <tr>\n",
              "      <th>Recycled Art</th>\n",
              "      <td>164.904348</td>\n",
              "      <td>161.050435</td>\n",
              "    </tr>\n",
              "    <tr>\n",
              "      <th>Jewelry</th>\n",
              "      <td>147.847619</td>\n",
              "      <td>140.823571</td>\n",
              "    </tr>\n",
              "    <tr>\n",
              "      <th>Textiles</th>\n",
              "      <td>134.928571</td>\n",
              "      <td>119.935714</td>\n",
              "    </tr>\n",
              "    <tr>\n",
              "      <th>Furniture</th>\n",
              "      <td>127.125000</td>\n",
              "      <td>116.560000</td>\n",
              "    </tr>\n",
              "    <tr>\n",
              "      <th>Accessories</th>\n",
              "      <td>99.805128</td>\n",
              "      <td>97.061026</td>\n",
              "    </tr>\n",
              "    <tr>\n",
              "      <th>Kitchen</th>\n",
              "      <td>99.975155</td>\n",
              "      <td>95.259752</td>\n",
              "    </tr>\n",
              "    <tr>\n",
              "      <th>Music</th>\n",
              "      <td>91.155172</td>\n",
              "      <td>83.410345</td>\n",
              "    </tr>\n",
              "    <tr>\n",
              "      <th>Fair Trade Gifts</th>\n",
              "      <td>80.642857</td>\n",
              "      <td>78.738214</td>\n",
              "    </tr>\n",
              "    <tr>\n",
              "      <th>Soapstone</th>\n",
              "      <td>71.574627</td>\n",
              "      <td>69.090896</td>\n",
              "    </tr>\n",
              "    <tr>\n",
              "      <th>Kids</th>\n",
              "      <td>60.920635</td>\n",
              "      <td>59.068889</td>\n",
              "    </tr>\n",
              "    <tr>\n",
              "      <th>Easter</th>\n",
              "      <td>38.000000</td>\n",
              "      <td>34.200000</td>\n",
              "    </tr>\n",
              "    <tr>\n",
              "      <th>Gift Baskets</th>\n",
              "      <td>19.500000</td>\n",
              "      <td>19.500000</td>\n",
              "    </tr>\n",
              "  </tbody>\n",
              "</table>\n",
              "</div>"
            ],
            "text/plain": [
              "                  Gross Sales  Total Net Sales\n",
              "Product Type                                  \n",
              "Art & Sculpture    268.001780       250.685015\n",
              "Basket             261.008167       244.630472\n",
              "Skin Care          237.227273       233.800000\n",
              "Christmas          212.000000       198.093288\n",
              "Home Decor         206.981298       196.183130\n",
              "One-of-a-Kind      181.666667       175.667500\n",
              "Recycled Art       164.904348       161.050435\n",
              "Jewelry            147.847619       140.823571\n",
              "Textiles           134.928571       119.935714\n",
              "Furniture          127.125000       116.560000\n",
              "Accessories         99.805128        97.061026\n",
              "Kitchen             99.975155        95.259752\n",
              "Music               91.155172        83.410345\n",
              "Fair Trade Gifts    80.642857        78.738214\n",
              "Soapstone           71.574627        69.090896\n",
              "Kids                60.920635        59.068889\n",
              "Easter              38.000000        34.200000\n",
              "Gift Baskets        19.500000        19.500000"
            ]
          },
          "metadata": {
            "tags": []
          },
          "execution_count": 6
        }
      ]
    },
    {
      "cell_type": "markdown",
      "metadata": {
        "id": "0GNzoXIyg5Nl"
      },
      "source": [
        "Agrupando valores para se saber qual obteve os maiores retornos e maiores quantidades."
      ]
    },
    {
      "cell_type": "code",
      "metadata": {
        "id": "atQoXEI8hCL6"
      },
      "source": [
        "df_3 = df[['Product Type','Discounts','Returns']]"
      ],
      "execution_count": null,
      "outputs": []
    },
    {
      "cell_type": "code",
      "metadata": {
        "colab": {
          "base_uri": "https://localhost:8080/"
        },
        "id": "zUAwS5EShLKd",
        "outputId": "94f2a02c-e55f-4215-a72e-f4b49f3fc34d"
      },
      "source": [
        "df_3.groupby('Product Type').mean().sort_values(by = ['Discounts'], ascending = True)"
      ],
      "execution_count": null,
      "outputs": [
        {
          "output_type": "execute_result",
          "data": {
            "text/html": [
              "<div>\n",
              "<style scoped>\n",
              "    .dataframe tbody tr th:only-of-type {\n",
              "        vertical-align: middle;\n",
              "    }\n",
              "\n",
              "    .dataframe tbody tr th {\n",
              "        vertical-align: top;\n",
              "    }\n",
              "\n",
              "    .dataframe thead th {\n",
              "        text-align: right;\n",
              "    }\n",
              "</style>\n",
              "<table border=\"1\" class=\"dataframe\">\n",
              "  <thead>\n",
              "    <tr style=\"text-align: right;\">\n",
              "      <th></th>\n",
              "      <th>Discounts</th>\n",
              "      <th>Returns</th>\n",
              "    </tr>\n",
              "    <tr>\n",
              "      <th>Product Type</th>\n",
              "      <th></th>\n",
              "      <th></th>\n",
              "    </tr>\n",
              "  </thead>\n",
              "  <tbody>\n",
              "    <tr>\n",
              "      <th>Furniture</th>\n",
              "      <td>-10.565000</td>\n",
              "      <td>0.000000</td>\n",
              "    </tr>\n",
              "    <tr>\n",
              "      <th>Art &amp; Sculpture</th>\n",
              "      <td>-8.770979</td>\n",
              "      <td>-8.545786</td>\n",
              "    </tr>\n",
              "    <tr>\n",
              "      <th>Basket</th>\n",
              "      <td>-8.201109</td>\n",
              "      <td>-7.942200</td>\n",
              "    </tr>\n",
              "    <tr>\n",
              "      <th>Textiles</th>\n",
              "      <td>-8.064286</td>\n",
              "      <td>-6.928571</td>\n",
              "    </tr>\n",
              "    <tr>\n",
              "      <th>Home Decor</th>\n",
              "      <td>-7.566489</td>\n",
              "      <td>-3.231679</td>\n",
              "    </tr>\n",
              "    <tr>\n",
              "      <th>One-of-a-Kind</th>\n",
              "      <td>-5.999167</td>\n",
              "      <td>0.000000</td>\n",
              "    </tr>\n",
              "    <tr>\n",
              "      <th>Christmas</th>\n",
              "      <td>-4.728630</td>\n",
              "      <td>-9.178082</td>\n",
              "    </tr>\n",
              "    <tr>\n",
              "      <th>Jewelry</th>\n",
              "      <td>-4.599286</td>\n",
              "      <td>-2.424762</td>\n",
              "    </tr>\n",
              "    <tr>\n",
              "      <th>Recycled Art</th>\n",
              "      <td>-3.853913</td>\n",
              "      <td>0.000000</td>\n",
              "    </tr>\n",
              "    <tr>\n",
              "      <th>Easter</th>\n",
              "      <td>-3.800000</td>\n",
              "      <td>0.000000</td>\n",
              "    </tr>\n",
              "    <tr>\n",
              "      <th>Skin Care</th>\n",
              "      <td>-3.427273</td>\n",
              "      <td>0.000000</td>\n",
              "    </tr>\n",
              "    <tr>\n",
              "      <th>Music</th>\n",
              "      <td>-2.834138</td>\n",
              "      <td>-4.910690</td>\n",
              "    </tr>\n",
              "    <tr>\n",
              "      <th>Accessories</th>\n",
              "      <td>-2.744103</td>\n",
              "      <td>0.000000</td>\n",
              "    </tr>\n",
              "    <tr>\n",
              "      <th>Kitchen</th>\n",
              "      <td>-2.677702</td>\n",
              "      <td>-2.037702</td>\n",
              "    </tr>\n",
              "    <tr>\n",
              "      <th>Fair Trade Gifts</th>\n",
              "      <td>-1.904643</td>\n",
              "      <td>0.000000</td>\n",
              "    </tr>\n",
              "    <tr>\n",
              "      <th>Kids</th>\n",
              "      <td>-1.851746</td>\n",
              "      <td>0.000000</td>\n",
              "    </tr>\n",
              "    <tr>\n",
              "      <th>Soapstone</th>\n",
              "      <td>-1.446418</td>\n",
              "      <td>-1.037313</td>\n",
              "    </tr>\n",
              "    <tr>\n",
              "      <th>Gift Baskets</th>\n",
              "      <td>0.000000</td>\n",
              "      <td>0.000000</td>\n",
              "    </tr>\n",
              "  </tbody>\n",
              "</table>\n",
              "</div>"
            ],
            "text/plain": [
              "                  Discounts   Returns\n",
              "Product Type                         \n",
              "Furniture        -10.565000  0.000000\n",
              "Art & Sculpture   -8.770979 -8.545786\n",
              "Basket            -8.201109 -7.942200\n",
              "Textiles          -8.064286 -6.928571\n",
              "Home Decor        -7.566489 -3.231679\n",
              "One-of-a-Kind     -5.999167  0.000000\n",
              "Christmas         -4.728630 -9.178082\n",
              "Jewelry           -4.599286 -2.424762\n",
              "Recycled Art      -3.853913  0.000000\n",
              "Easter            -3.800000  0.000000\n",
              "Skin Care         -3.427273  0.000000\n",
              "Music             -2.834138 -4.910690\n",
              "Accessories       -2.744103  0.000000\n",
              "Kitchen           -2.677702 -2.037702\n",
              "Fair Trade Gifts  -1.904643  0.000000\n",
              "Kids              -1.851746  0.000000\n",
              "Soapstone         -1.446418 -1.037313\n",
              "Gift Baskets       0.000000  0.000000"
            ]
          },
          "metadata": {
            "tags": []
          },
          "execution_count": 22
        }
      ]
    },
    {
      "cell_type": "markdown",
      "metadata": {
        "id": "0jQ9mAVoccfT"
      },
      "source": [
        "Visualizando as correlações:\n",
        "\n",
        "Uma maneira de saber como os dados estão inter-relacionados, é através das correlações. \n",
        "Ou seja, o quanto que uma variável influencia em outra. Quanto mais proximo do 1 ou do -1 o valor chegar, mais \"forte\" é a correlação."
      ]
    },
    {
      "cell_type": "code",
      "metadata": {
        "colab": {
          "base_uri": "https://localhost:8080/",
          "height": 204
        },
        "id": "i4wwvdDhdDYr",
        "outputId": "a96ace7b-88b0-4aa1-c087-8f9fc70ea12a"
      },
      "source": [
        "df.corr()"
      ],
      "execution_count": null,
      "outputs": [
        {
          "output_type": "execute_result",
          "data": {
            "text/html": [
              "<div>\n",
              "<style scoped>\n",
              "    .dataframe tbody tr th:only-of-type {\n",
              "        vertical-align: middle;\n",
              "    }\n",
              "\n",
              "    .dataframe tbody tr th {\n",
              "        vertical-align: top;\n",
              "    }\n",
              "\n",
              "    .dataframe thead th {\n",
              "        text-align: right;\n",
              "    }\n",
              "</style>\n",
              "<table border=\"1\" class=\"dataframe\">\n",
              "  <thead>\n",
              "    <tr style=\"text-align: right;\">\n",
              "      <th></th>\n",
              "      <th>Net Quantity</th>\n",
              "      <th>Gross Sales</th>\n",
              "      <th>Discounts</th>\n",
              "      <th>Returns</th>\n",
              "      <th>Total Net Sales</th>\n",
              "    </tr>\n",
              "  </thead>\n",
              "  <tbody>\n",
              "    <tr>\n",
              "      <th>Net Quantity</th>\n",
              "      <td>1.000000</td>\n",
              "      <td>0.467464</td>\n",
              "      <td>-0.318734</td>\n",
              "      <td>-0.132924</td>\n",
              "      <td>0.493191</td>\n",
              "    </tr>\n",
              "    <tr>\n",
              "      <th>Gross Sales</th>\n",
              "      <td>0.467464</td>\n",
              "      <td>1.000000</td>\n",
              "      <td>-0.852152</td>\n",
              "      <td>-0.725444</td>\n",
              "      <td>0.996805</td>\n",
              "    </tr>\n",
              "    <tr>\n",
              "      <th>Discounts</th>\n",
              "      <td>-0.318734</td>\n",
              "      <td>-0.852152</td>\n",
              "      <td>1.000000</td>\n",
              "      <td>0.590271</td>\n",
              "      <td>-0.838764</td>\n",
              "    </tr>\n",
              "    <tr>\n",
              "      <th>Returns</th>\n",
              "      <td>-0.132924</td>\n",
              "      <td>-0.725444</td>\n",
              "      <td>0.590271</td>\n",
              "      <td>1.000000</td>\n",
              "      <td>-0.671219</td>\n",
              "    </tr>\n",
              "    <tr>\n",
              "      <th>Total Net Sales</th>\n",
              "      <td>0.493191</td>\n",
              "      <td>0.996805</td>\n",
              "      <td>-0.838764</td>\n",
              "      <td>-0.671219</td>\n",
              "      <td>1.000000</td>\n",
              "    </tr>\n",
              "  </tbody>\n",
              "</table>\n",
              "</div>"
            ],
            "text/plain": [
              "                 Net Quantity  Gross Sales  ...   Returns  Total Net Sales\n",
              "Net Quantity         1.000000     0.467464  ... -0.132924         0.493191\n",
              "Gross Sales          0.467464     1.000000  ... -0.725444         0.996805\n",
              "Discounts           -0.318734    -0.852152  ...  0.590271        -0.838764\n",
              "Returns             -0.132924    -0.725444  ...  1.000000        -0.671219\n",
              "Total Net Sales      0.493191     0.996805  ... -0.671219         1.000000\n",
              "\n",
              "[5 rows x 5 columns]"
            ]
          },
          "metadata": {
            "tags": []
          },
          "execution_count": 4
        }
      ]
    },
    {
      "cell_type": "markdown",
      "metadata": {
        "id": "ucDDNoTgdGe8"
      },
      "source": [
        "Visualizando a correlação através de uma mapa de calor"
      ]
    },
    {
      "cell_type": "code",
      "metadata": {
        "colab": {
          "base_uri": "https://localhost:8080/",
          "height": 350
        },
        "id": "e6Huk8kbdLHl",
        "outputId": "19b53d2b-586d-4d5d-ebda-e3b1d83ed8e4"
      },
      "source": [
        "sns.heatmap(df.corr(),annot=True)"
      ],
      "execution_count": null,
      "outputs": [
        {
          "output_type": "execute_result",
          "data": {
            "text/plain": [
              "<matplotlib.axes._subplots.AxesSubplot at 0x7fbbb6cb4ed0>"
            ]
          },
          "metadata": {
            "tags": []
          },
          "execution_count": 7
        },
        {
          "output_type": "display_data",
          "data": {
            "image/png": "[encoded data removed]",
            "text/plain": [
              "<Figure size 432x288 with 2 Axes>"
            ]
          },
          "metadata": {
            "tags": [],
            "needs_background": "light"
          }
        }
      ]
    },
    {
      "cell_type": "markdown",
      "metadata": {
        "id": "6D5m5cBudSkT"
      },
      "source": [
        "Como dito anteriormente, uma das parte deste projeto involve a visualização dos dados e posteriormente a aplicação de uma algoritmo de regressão linear, com o objetivo de predizer valores. \n",
        "\n",
        "Será utilizada a biblioteca \"Seaborn\" para a visualização da linearidade dos dados. \n",
        "\n",
        "Como o objetivo final é predizer o \"Total Net Sales\" (vendas líquidas totais), o y dos graficos será a variavel alvo da predição. "
      ]
    },
    {
      "cell_type": "code",
      "metadata": {
        "colab": {
          "base_uri": "https://localhost:8080/",
          "height": 296
        },
        "id": "MDA3iW3-drVc",
        "outputId": "a72a802d-6e8a-492d-e4d7-71118d27fcc1"
      },
      "source": [
        "sns.regplot(x='Net Quantity',y = \"Total Net Sales\", data=df)"
      ],
      "execution_count": null,
      "outputs": [
        {
          "output_type": "execute_result",
          "data": {
            "text/plain": [
              "<matplotlib.axes._subplots.AxesSubplot at 0x7fbbaeb1b790>"
            ]
          },
          "metadata": {
            "tags": []
          },
          "execution_count": 8
        },
        {
          "output_type": "display_data",
          "data": {
            "image/png": "[encoded data removed]",
            "text/plain": [
              "<Figure size 432x288 with 1 Axes>"
            ]
          },
          "metadata": {
            "tags": [],
            "needs_background": "light"
          }
        }
      ]
    },
    {
      "cell_type": "code",
      "metadata": {
        "colab": {
          "base_uri": "https://localhost:8080/",
          "height": 296
        },
        "id": "l0BazAy-eNcV",
        "outputId": "2e862427-f62b-4a9e-87ec-c178b1debdfb"
      },
      "source": [
        "sns.regplot(x='Gross Sales',y = \"Total Net Sales\", data=df)"
      ],
      "execution_count": null,
      "outputs": [
        {
          "output_type": "execute_result",
          "data": {
            "text/plain": [
              "<matplotlib.axes._subplots.AxesSubplot at 0x7f3b0d0a4390>"
            ]
          },
          "metadata": {
            "tags": []
          },
          "execution_count": 13
        },
        {
          "output_type": "display_data",
          "data": {
            "image/png": "[encoded data removed]",
            "text/plain": [
              "<Figure size 432x288 with 1 Axes>"
            ]
          },
          "metadata": {
            "tags": [],
            "needs_background": "light"
          }
        }
      ]
    },
    {
      "cell_type": "code",
      "metadata": {
        "colab": {
          "base_uri": "https://localhost:8080/",
          "height": 296
        },
        "id": "c95ybspreWCv",
        "outputId": "31a4d178-ccbe-4dd7-cc30-d48725f6ca09"
      },
      "source": [
        "sns.regplot(x='Returns',y = \"Total Net Sales\", data=df)"
      ],
      "execution_count": null,
      "outputs": [
        {
          "output_type": "execute_result",
          "data": {
            "text/plain": [
              "<matplotlib.axes._subplots.AxesSubplot at 0x7f3b0e736c50>"
            ]
          },
          "metadata": {
            "tags": []
          },
          "execution_count": 10
        },
        {
          "output_type": "display_data",
          "data": {
            "image/png": "[encoded data removed]",
            "text/plain": [
              "<Figure size 432x288 with 1 Axes>"
            ]
          },
          "metadata": {
            "tags": [],
            "needs_background": "light"
          }
        }
      ]
    },
    {
      "cell_type": "markdown",
      "metadata": {
        "id": "VwIHM8k_hjxw"
      },
      "source": [
        "Contagem de variáveis"
      ]
    },
    {
      "cell_type": "code",
      "metadata": {
        "colab": {
          "base_uri": "https://localhost:8080/",
          "height": 540
        },
        "id": "_ZPtGl0ihmWX",
        "outputId": "a12ba2ba-ada8-42e1-e7b9-ccd2d18a62d2"
      },
      "source": [
        "plt.figure(figsize=(25,10))\n",
        "sns.countplot(x='Product Type',data=df)"
      ],
      "execution_count": null,
      "outputs": [
        {
          "output_type": "execute_result",
          "data": {
            "text/plain": [
              "<matplotlib.axes._subplots.AxesSubplot at 0x7f3b0746d650>"
            ]
          },
          "metadata": {
            "tags": []
          },
          "execution_count": 22
        },
        {
          "output_type": "display_data",
          "data": {
            "image/png": "[encoded data removed]",
            "text/plain": [
              "<Figure size 1800x720 with 1 Axes>"
            ]
          },
          "metadata": {
            "tags": [],
            "needs_background": "light"
          }
        }
      ]
    },
    {
      "cell_type": "markdown",
      "metadata": {
        "id": "cdtZocl3rzaF"
      },
      "source": [
        "Aplicação do algoritmo de Regressão Linear, utilizando a biblioteca Scikit-learn. \n",
        "\n",
        "\n",
        "Separando os dados de treino e teste, e definindo o X e Y. \n",
        "Como dito no início do projeto, o foco deste algoritmo é a projeção dos dados de \"Total Net Sales\""
      ]
    },
    {
      "cell_type": "code",
      "metadata": {
        "colab": {
          "base_uri": "https://localhost:8080/"
        },
        "id": "0G5kI5NuLJmI",
        "outputId": "73023d70-1ae4-415e-8f69-6393673bec92"
      },
      "source": [
        "df.columns"
      ],
      "execution_count": 3,
      "outputs": [
        {
          "output_type": "execute_result",
          "data": {
            "text/plain": [
              "Index(['Product Type', 'Net Quantity', 'Gross Sales', 'Discounts', 'Returns',\n",
              "       'Total Net Sales'],\n",
              "      dtype='object')"
            ]
          },
          "metadata": {
            "tags": []
          },
          "execution_count": 3
        }
      ]
    },
    {
      "cell_type": "code",
      "metadata": {
        "id": "nIfnqsSmLLHv"
      },
      "source": [
        "x = df[['Net Quantity', 'Gross Sales', 'Discounts', 'Returns']]"
      ],
      "execution_count": 4,
      "outputs": []
    },
    {
      "cell_type": "code",
      "metadata": {
        "id": "V73zYlBXLM53"
      },
      "source": [
        "y = df['Total Net Sales']"
      ],
      "execution_count": 6,
      "outputs": []
    },
    {
      "cell_type": "code",
      "metadata": {
        "id": "ape8Bh_bMG4n"
      },
      "source": [
        "from sklearn.model_selection import train_test_split"
      ],
      "execution_count": 7,
      "outputs": []
    },
    {
      "cell_type": "code",
      "metadata": {
        "id": "0aQ2sTDUMIEv"
      },
      "source": [
        "x_train, x_test, y_train, y_test = train_test_split(x,y, test_size=0.3,random_state=101)"
      ],
      "execution_count": 8,
      "outputs": []
    },
    {
      "cell_type": "markdown",
      "metadata": {
        "id": "zYwGK2MXMNew"
      },
      "source": [
        "Após o \"split\" dos dados de teste e treino. Será realizado a importação da modulo de Regressão Linerar do Scikit-learn, instanciamento da classe \"LinearRegression\" e \"fitagem\" do modelo\n"
      ]
    },
    {
      "cell_type": "code",
      "metadata": {
        "id": "b-O3NjoJMT1n"
      },
      "source": [
        "from sklearn.linear_model import LinearRegression"
      ],
      "execution_count": 9,
      "outputs": []
    },
    {
      "cell_type": "code",
      "metadata": {
        "id": "RmZBuhKcMibH"
      },
      "source": [
        "lm = LinearRegression()"
      ],
      "execution_count": 10,
      "outputs": []
    },
    {
      "cell_type": "code",
      "metadata": {
        "colab": {
          "base_uri": "https://localhost:8080/"
        },
        "id": "TmkTv0lbMkau",
        "outputId": "14ae288f-6276-49c9-e1f0-1df3789380bc"
      },
      "source": [
        "lm.fit(x_train,y_train)"
      ],
      "execution_count": 11,
      "outputs": [
        {
          "output_type": "execute_result",
          "data": {
            "text/plain": [
              "LinearRegression(copy_X=True, fit_intercept=True, n_jobs=None, normalize=False)"
            ]
          },
          "metadata": {
            "tags": []
          },
          "execution_count": 11
        }
      ]
    },
    {
      "cell_type": "code",
      "metadata": {
        "colab": {
          "base_uri": "https://localhost:8080/"
        },
        "id": "Qe4qBy--MmVu",
        "outputId": "9d2475a4-dd28-4de3-d46f-d1075d5cf6e9"
      },
      "source": [
        "print(lm.coef_)"
      ],
      "execution_count": 12,
      "outputs": [
        {
          "output_type": "stream",
          "text": [
            "[4.54487773e-14 1.00000000e+00 1.00000000e+00 1.00000000e+00]\n"
          ],
          "name": "stdout"
        }
      ]
    },
    {
      "cell_type": "code",
      "metadata": {
        "id": "yliu9i9sO00v"
      },
      "source": [
        "predict = lm.predict(x_test)"
      ],
      "execution_count": 20,
      "outputs": []
    },
    {
      "cell_type": "markdown",
      "metadata": {
        "id": "13gYX-hMM6vs"
      },
      "source": [
        "Após saber-se os coeficientes da regressão. Será realizado a validação da predição do modelo com base nos dados existeste no Data Frame. \n",
        "Será utilizado os dados da primeira linha do Data Frame(df) para avaliar se a predição será correta.\n",
        "\n",
        "De acordo com a primeira linha do df, o \"Total Net Sales\" será de 12732.00."
      ]
    },
    {
      "cell_type": "code",
      "metadata": {
        "colab": {
          "base_uri": "https://localhost:8080/"
        },
        "id": "dSBTpFO9NiRV",
        "outputId": "67b9f48e-08ca-405a-b4bf-81a2b2fd845a"
      },
      "source": [
        "df.iloc[0]"
      ],
      "execution_count": 16,
      "outputs": [
        {
          "output_type": "execute_result",
          "data": {
            "text/plain": [
              "Product Type       Art & Sculpture\n",
              "Net Quantity                    34\n",
              "Gross Sales                  14935\n",
              "Discounts                     -594\n",
              "Returns                      -1609\n",
              "Total Net Sales              12732\n",
              "Name: 0, dtype: object"
            ]
          },
          "metadata": {
            "tags": []
          },
          "execution_count": 16
        }
      ]
    },
    {
      "cell_type": "code",
      "metadata": {
        "colab": {
          "base_uri": "https://localhost:8080/"
        },
        "id": "w7lykrD2NjjX",
        "outputId": "d05cb014-e451-4c88-caa7-fa6484a58479"
      },
      "source": [
        "lm.predict([[34,14935.0,-594.00,-1609.0\t]])"
      ],
      "execution_count": 17,
      "outputs": [
        {
          "output_type": "execute_result",
          "data": {
            "text/plain": [
              "array([12732.])"
            ]
          },
          "metadata": {
            "tags": []
          },
          "execution_count": 17
        }
      ]
    },
    {
      "cell_type": "markdown",
      "metadata": {
        "id": "lFI4nHNMNud2"
      },
      "source": [
        "Validação gravifa do modelo através do \"scatterplot\""
      ]
    },
    {
      "cell_type": "code",
      "metadata": {
        "colab": {
          "base_uri": "https://localhost:8080/",
          "height": 282
        },
        "id": "WTJrcAM2N2e3",
        "outputId": "806f5ae8-89ef-44ec-df37-a2b94a3531ce"
      },
      "source": [
        "plt.scatter(y_test,predict)"
      ],
      "execution_count": 18,
      "outputs": [
        {
          "output_type": "execute_result",
          "data": {
            "text/plain": [
              "<matplotlib.collections.PathCollection at 0x7fab36b0bd10>"
            ]
          },
          "metadata": {
            "tags": []
          },
          "execution_count": 18
        },
        {
          "output_type": "display_data",
          "data": {
            "image/png": "[encoded data removed]",
            "text/plain": [
              "<Figure size 432x288 with 1 Axes>"
            ]
          },
          "metadata": {
            "tags": [],
            "needs_background": "light"
          }
        }
      ]
    },
    {
      "cell_type": "markdown",
      "metadata": {
        "id": "9J4aq8n5Ols9"
      },
      "source": [
        "Validando a acuracia do modelo através das métricas do Scikit-learn."
      ]
    },
    {
      "cell_type": "code",
      "metadata": {
        "id": "j7jDRdY1OuRM"
      },
      "source": [
        "from sklearn import metrics"
      ],
      "execution_count": 19,
      "outputs": []
    },
    {
      "cell_type": "code",
      "metadata": {
        "colab": {
          "base_uri": "https://localhost:8080/"
        },
        "id": "qTW2jkUGOxmM",
        "outputId": "8e5bf036-c8c8-44e9-91f6-a383177bc8d8"
      },
      "source": [
        "\n",
        "print('MAE:', metrics.mean_absolute_error(y_test, predict))\n",
        "print('MSE:', metrics.mean_squared_error(y_test, predict))\n",
        "print('RMSE:', np.sqrt(metrics.mean_squared_error(y_test, predict)))"
      ],
      "execution_count": 21,
      "outputs": [
        {
          "output_type": "stream",
          "text": [
            "MAE: 1.134755204123323e-13\n",
            "MSE: 5.906208824721868e-26\n",
            "RMSE: 2.430269290577048e-13\n"
          ],
          "name": "stdout"
        }
      ]
    },
    {
      "cell_type": "markdown",
      "metadata": {
        "id": "eJYjfEvMRZ1O"
      },
      "source": [
        ""
      ]
    }
  ]
}